{
 "cells": [
  {
   "cell_type": "code",
   "execution_count": 3,
   "metadata": {
    "collapsed": true
   },
   "outputs": [],
   "source": [
    "import pandas as pd\n",
    "import numpy as np"
   ]
  },
  {
   "cell_type": "code",
   "execution_count": 17,
   "metadata": {
    "collapsed": false
   },
   "outputs": [
    {
     "data": {
      "text/plain": [
       "'C:\\\\Users\\\\Yannick\\\\Documents\\\\CoursENSAE\\\\Statapp\\\\stat_app_foot'"
      ]
     },
     "execution_count": 17,
     "metadata": {},
     "output_type": "execute_result"
    }
   ],
   "source": [
    "import os\n",
    "os.getcwd()"
   ]
  },
  {
   "cell_type": "code",
   "execution_count": 19,
   "metadata": {
    "collapsed": false,
    "scrolled": true
   },
   "outputs": [],
   "source": [
    "df_16=pd.read_csv(\"C:\\\\Users\\\\Yannick\\\\Documents\\\\CoursENSAE\\\\Statapp\\\\F1_1617.csv\")\n",
    "df_15=pd.read_csv(\"C:\\\\Users\\\\Yannick\\\\Documents\\\\CoursENSAE\\\\Statapp\\\\F1_1516.csv\")\n",
    "df_14=pd.read_csv(\"C:\\\\Users\\\\Yannick\\\\Documents\\\\CoursENSAE\\\\Statapp\\\\F1_1415.csv\")\n",
    "\n",
    "df_15=df_15.drop(380)"
   ]
  },
  {
   "cell_type": "code",
   "execution_count": 20,
   "metadata": {
    "collapsed": false
   },
   "outputs": [
    {
     "name": "stdout",
     "output_type": "stream",
     "text": [
      "(120, 64)\n",
      "Index(['Div', 'Date', 'HomeTeam', 'AwayTeam', 'FTHG', 'FTAG', 'FTR', 'HTHG',\n",
      "       'HTAG', 'HTR', 'HS', 'AS', 'HST', 'AST', 'HF', 'AF', 'HC', 'AC', 'HY',\n",
      "       'AY', 'HR', 'AR', 'B365H', 'B365D', 'B365A', 'BWH', 'BWD', 'BWA', 'IWH',\n",
      "       'IWD', 'IWA', 'LBH', 'LBD', 'LBA', 'PSH', 'PSD', 'PSA', 'WHH', 'WHD',\n",
      "       'WHA', 'VCH', 'VCD', 'VCA', 'Bb1X2', 'BbMxH', 'BbAvH', 'BbMxD', 'BbAvD',\n",
      "       'BbMxA', 'BbAvA', 'BbOU', 'BbMx>2.5', 'BbAv>2.5', 'BbMx<2.5',\n",
      "       'BbAv<2.5', 'BbAH', 'BbAHh', 'BbMxAHH', 'BbAvAHH', 'BbMxAHA', 'BbAvAHA',\n",
      "       'PSCH', 'PSCD', 'PSCA'],\n",
      "      dtype='object')\n"
     ]
    }
   ],
   "source": [
    "print(df_16.shape)\n",
    "print(df_16.columns)"
   ]
  },
  {
   "cell_type": "code",
   "execution_count": 21,
   "metadata": {
    "collapsed": false
   },
   "outputs": [
    {
     "data": {
      "text/html": [
       "<div>\n",
       "<table border=\"1\" class=\"dataframe\">\n",
       "  <thead>\n",
       "    <tr style=\"text-align: right;\">\n",
       "      <th></th>\n",
       "      <th>Div</th>\n",
       "      <th>Date</th>\n",
       "      <th>HomeTeam</th>\n",
       "      <th>AwayTeam</th>\n",
       "      <th>FTHG</th>\n",
       "      <th>FTAG</th>\n",
       "      <th>FTR</th>\n",
       "      <th>HTHG</th>\n",
       "      <th>HTAG</th>\n",
       "      <th>HTR</th>\n",
       "      <th>...</th>\n",
       "      <th>BbAv&lt;2.5</th>\n",
       "      <th>BbAH</th>\n",
       "      <th>BbAHh</th>\n",
       "      <th>BbMxAHH</th>\n",
       "      <th>BbAvAHH</th>\n",
       "      <th>BbMxAHA</th>\n",
       "      <th>BbAvAHA</th>\n",
       "      <th>PSCH</th>\n",
       "      <th>PSCD</th>\n",
       "      <th>PSCA</th>\n",
       "    </tr>\n",
       "  </thead>\n",
       "  <tbody>\n",
       "    <tr>\n",
       "      <th>0</th>\n",
       "      <td>F1</td>\n",
       "      <td>12/08/16</td>\n",
       "      <td>Bastia</td>\n",
       "      <td>Paris SG</td>\n",
       "      <td>0</td>\n",
       "      <td>1</td>\n",
       "      <td>A</td>\n",
       "      <td>0</td>\n",
       "      <td>0</td>\n",
       "      <td>D</td>\n",
       "      <td>...</td>\n",
       "      <td>1.95</td>\n",
       "      <td>32</td>\n",
       "      <td>1.50</td>\n",
       "      <td>1.93</td>\n",
       "      <td>1.86</td>\n",
       "      <td>2.03</td>\n",
       "      <td>1.97</td>\n",
       "      <td>12.13</td>\n",
       "      <td>5.29</td>\n",
       "      <td>1.34</td>\n",
       "    </tr>\n",
       "    <tr>\n",
       "      <th>1</th>\n",
       "      <td>F1</td>\n",
       "      <td>12/08/16</td>\n",
       "      <td>Monaco</td>\n",
       "      <td>Guingamp</td>\n",
       "      <td>2</td>\n",
       "      <td>2</td>\n",
       "      <td>D</td>\n",
       "      <td>0</td>\n",
       "      <td>2</td>\n",
       "      <td>A</td>\n",
       "      <td>...</td>\n",
       "      <td>1.75</td>\n",
       "      <td>31</td>\n",
       "      <td>-1.00</td>\n",
       "      <td>2.28</td>\n",
       "      <td>2.20</td>\n",
       "      <td>1.75</td>\n",
       "      <td>1.69</td>\n",
       "      <td>1.71</td>\n",
       "      <td>3.75</td>\n",
       "      <td>5.87</td>\n",
       "    </tr>\n",
       "    <tr>\n",
       "      <th>2</th>\n",
       "      <td>F1</td>\n",
       "      <td>13/08/16</td>\n",
       "      <td>Bordeaux</td>\n",
       "      <td>St Etienne</td>\n",
       "      <td>3</td>\n",
       "      <td>2</td>\n",
       "      <td>H</td>\n",
       "      <td>1</td>\n",
       "      <td>0</td>\n",
       "      <td>H</td>\n",
       "      <td>...</td>\n",
       "      <td>1.53</td>\n",
       "      <td>27</td>\n",
       "      <td>-0.25</td>\n",
       "      <td>2.12</td>\n",
       "      <td>2.07</td>\n",
       "      <td>1.83</td>\n",
       "      <td>1.79</td>\n",
       "      <td>2.39</td>\n",
       "      <td>3.04</td>\n",
       "      <td>3.66</td>\n",
       "    </tr>\n",
       "    <tr>\n",
       "      <th>3</th>\n",
       "      <td>F1</td>\n",
       "      <td>13/08/16</td>\n",
       "      <td>Caen</td>\n",
       "      <td>Lorient</td>\n",
       "      <td>3</td>\n",
       "      <td>2</td>\n",
       "      <td>H</td>\n",
       "      <td>2</td>\n",
       "      <td>2</td>\n",
       "      <td>D</td>\n",
       "      <td>...</td>\n",
       "      <td>1.72</td>\n",
       "      <td>29</td>\n",
       "      <td>-0.25</td>\n",
       "      <td>1.87</td>\n",
       "      <td>1.83</td>\n",
       "      <td>2.10</td>\n",
       "      <td>2.02</td>\n",
       "      <td>2.39</td>\n",
       "      <td>3.19</td>\n",
       "      <td>3.47</td>\n",
       "    </tr>\n",
       "    <tr>\n",
       "      <th>4</th>\n",
       "      <td>F1</td>\n",
       "      <td>13/08/16</td>\n",
       "      <td>Dijon</td>\n",
       "      <td>Nantes</td>\n",
       "      <td>0</td>\n",
       "      <td>1</td>\n",
       "      <td>A</td>\n",
       "      <td>0</td>\n",
       "      <td>0</td>\n",
       "      <td>D</td>\n",
       "      <td>...</td>\n",
       "      <td>1.46</td>\n",
       "      <td>28</td>\n",
       "      <td>-0.25</td>\n",
       "      <td>2.14</td>\n",
       "      <td>2.07</td>\n",
       "      <td>1.84</td>\n",
       "      <td>1.78</td>\n",
       "      <td>2.57</td>\n",
       "      <td>3.04</td>\n",
       "      <td>3.31</td>\n",
       "    </tr>\n",
       "  </tbody>\n",
       "</table>\n",
       "<p>5 rows × 64 columns</p>\n",
       "</div>"
      ],
      "text/plain": [
       "  Div      Date  HomeTeam    AwayTeam  FTHG  FTAG FTR  HTHG  HTAG HTR  ...   \\\n",
       "0  F1  12/08/16    Bastia    Paris SG     0     1   A     0     0   D  ...    \n",
       "1  F1  12/08/16    Monaco    Guingamp     2     2   D     0     2   A  ...    \n",
       "2  F1  13/08/16  Bordeaux  St Etienne     3     2   H     1     0   H  ...    \n",
       "3  F1  13/08/16      Caen     Lorient     3     2   H     2     2   D  ...    \n",
       "4  F1  13/08/16     Dijon      Nantes     0     1   A     0     0   D  ...    \n",
       "\n",
       "   BbAv<2.5  BbAH  BbAHh  BbMxAHH  BbAvAHH  BbMxAHA  BbAvAHA   PSCH  PSCD  \\\n",
       "0      1.95    32   1.50     1.93     1.86     2.03     1.97  12.13  5.29   \n",
       "1      1.75    31  -1.00     2.28     2.20     1.75     1.69   1.71  3.75   \n",
       "2      1.53    27  -0.25     2.12     2.07     1.83     1.79   2.39  3.04   \n",
       "3      1.72    29  -0.25     1.87     1.83     2.10     2.02   2.39  3.19   \n",
       "4      1.46    28  -0.25     2.14     2.07     1.84     1.78   2.57  3.04   \n",
       "\n",
       "   PSCA  \n",
       "0  1.34  \n",
       "1  5.87  \n",
       "2  3.66  \n",
       "3  3.47  \n",
       "4  3.31  \n",
       "\n",
       "[5 rows x 64 columns]"
      ]
     },
     "execution_count": 21,
     "metadata": {},
     "output_type": "execute_result"
    }
   ],
   "source": [
    "df_16.head(5)"
   ]
  },
  {
   "cell_type": "code",
   "execution_count": 34,
   "metadata": {
    "collapsed": false
   },
   "outputs": [
    {
     "data": {
      "image/png": "[encoded data removed]",
      "text/plain": [
       "<matplotlib.figure.Figure at 0x6aa07f0>"
      ]
     },
     "metadata": {},
     "output_type": "display_data"
    }
   ],
   "source": [
    "import matplotlib.pyplot as plt\n",
    "plt.hist(df_16['FTAG'])\n",
    "plt.show()"
   ]
  },
  {
   "cell_type": "code",
   "execution_count": 23,
   "metadata": {
    "collapsed": false
   },
   "outputs": [],
   "source": [
    "def facto(n):\n",
    "    return{\n",
    "        0:1,\n",
    "        1:1,\n",
    "        2:2,\n",
    "        3:6,\n",
    "        4:24,\n",
    "        5:120,\n",
    "        6:720,\n",
    "        7:5040,\n",
    "        8:40320,\n",
    "        9:362880,\n",
    "        10:3628800\n",
    "    }[n]\n"
   ]
  },
  {
   "cell_type": "code",
   "execution_count": 300,
   "metadata": {
    "collapsed": false
   },
   "outputs": [
    {
     "data": {
      "text/plain": [
       "0.067667641618306351"
      ]
     },
     "execution_count": 300,
     "metadata": {},
     "output_type": "execute_result"
    }
   ],
   "source": [
    "rau=0\n",
    "\n",
    "def tau(x,y,lam,mu,rau): #fonction tau \n",
    "    if x<2 and y<2:\n",
    "        return {\n",
    "            (0,0): 1-lam*mu*rau,\n",
    "            (0,1): 1+lam*rau,\n",
    "            (1,0): 1+mu*rau,\n",
    "            (1,1): 1-rau,\n",
    "\n",
    "        }[(x,y)]\n",
    "    else:\n",
    "        return 1\n",
    "\n",
    "def distribution(x,y,a,b,gamma,rau): #distribution de proba definie dans l'article\n",
    "    lam=a[0]*b[1]*gamma\n",
    "    mu=a[1]*b[0]\n",
    "    return tau(x,y,lam,mu,rau)*lam**x*np.exp(-lam)*mu**y*np.exp(-mu)/facto(x)/facto(y)\n",
    "\n",
    "distribution(1,2,[1,1],[1,1],1,0)"
   ]
  },
  {
   "cell_type": "code",
   "execution_count": null,
   "metadata": {
    "collapsed": false
   },
   "outputs": [],
   "source": []
  },
  {
   "cell_type": "code",
   "execution_count": 301,
   "metadata": {
    "collapsed": false
   },
   "outputs": [],
   "source": [
    "teams=df_16['HomeTeam'].unique()\n",
    "np.where(teams=='Lyon')[0][0]\n",
    "\n",
    "a=np.full(20,1.)\n",
    "b=np.full(20,0.5)"
   ]
  },
  {
   "cell_type": "code",
   "execution_count": 302,
   "metadata": {
    "collapsed": true
   },
   "outputs": [],
   "source": [
    "def match_log_likelihood(x,a,b,gamma,rau,teams): #x is the row of a match\n",
    "    home_index=np.where(teams==x['HomeTeam'])[0][0]\n",
    "    away_index=np.where(teams==x['AwayTeam'])[0][0]\n",
    "    return np.log(distribution(x['FTHG'],x['FTAG'],[a[home_index],a[away_index]],[b[home_index],b[away_index]],gamma,rau))"
   ]
  },
  {
   "cell_type": "code",
   "execution_count": 303,
   "metadata": {
    "collapsed": false
   },
   "outputs": [
    {
     "data": {
      "text/plain": [
       "-6.9506425525877269"
      ]
     },
     "execution_count": 303,
     "metadata": {},
     "output_type": "execute_result"
    }
   ],
   "source": [
    "match_log_likelihood(df_16.iloc[3],a,b,1.,0.,teams)"
   ]
  },
  {
   "cell_type": "code",
   "execution_count": null,
   "metadata": {
    "collapsed": false
   },
   "outputs": [],
   "source": []
  },
  {
   "cell_type": "code",
   "execution_count": 304,
   "metadata": {
    "collapsed": false
   },
   "outputs": [],
   "source": [
    "def log_likelihood(df,a,b,gamma,rau): #somme des log likelihood \n",
    "    teams=df['HomeTeam'].unique()\n",
    "    return np.sum([match_log_likelihood(df.iloc[i],a,b,gamma,rau,teams) for i in range(len(df))])\n",
    "\n",
    "df=df_15\n",
    "teams=df['HomeTeam'].unique()\n",
    "x=np.full(2*len(teams)+2,1.)\n",
    "x[-1]=0\n",
    "\n",
    "def fun_to_minimize(x):  #function a minimiser\n",
    "    #x is the vector to optimize. It is of size 2n+2 where 1 is the number of teams\n",
    "    #It contains a, b, gamma, rau\n",
    "    N=len(x)\n",
    "    n=int((N-2)/2)\n",
    "    a=x[:n]\n",
    "    b=x[n:2*n]\n",
    "    gamma=1 #x[2*n]\n",
    "    rau=0 #x[2*n+1]\n",
    "    return -log_likelihood(df,a,b,gamma,rau)"
   ]
  },
  {
   "cell_type": "code",
   "execution_count": 305,
   "metadata": {
    "collapsed": false,
    "scrolled": true
   },
   "outputs": [
    {
     "data": {
      "text/plain": [
       "1152.632753626347"
      ]
     },
     "execution_count": 305,
     "metadata": {},
     "output_type": "execute_result"
    }
   ],
   "source": [
    "fun_to_minimize(x)\n"
   ]
  },
  {
   "cell_type": "code",
   "execution_count": null,
   "metadata": {
    "collapsed": false
   },
   "outputs": [],
   "source": []
  },
  {
   "cell_type": "code",
   "execution_count": 235,
   "metadata": {
    "collapsed": false,
    "scrolled": true
   },
   "outputs": [],
   "source": [
    "from scipy.optimize import minimize\n",
    "\n",
    "#contraintes je ne les ai pas toutes ecrites\n",
    "cons = ({'type': 'eq',\n",
    "          'fun' : lambda x: np.sum(x[:int((len(x)-2)/2)])-int((len(x)-2)/2)},\n",
    "        {'type': 'eq',\n",
    "          'fun' : lambda x: np.sum(x[int((len(x)-2)/2):(len(x)-2)]-int((len(x)-2)/2))}\n",
    "       )\n",
    "        \n",
    "         \n",
    "res = minimize(fun_to_minimize, x, #ca prend du temps et ca converge pas\n",
    "               constraints=cons)"
   ]
  },
  {
   "cell_type": "code",
   "execution_count": 248,
   "metadata": {
    "collapsed": false
   },
   "outputs": [
    {
     "data": {
      "text/plain": [
       "'Paris SG'"
      ]
     },
     "execution_count": 248,
     "metadata": {},
     "output_type": "execute_result"
    }
   ],
   "source": [
    "teams[np.argmax(res.x[:20])]"
   ]
  },
  {
   "cell_type": "code",
   "execution_count": 244,
   "metadata": {
    "collapsed": false
   },
   "outputs": [
    {
     "data": {
      "text/plain": [
       "'Troyes'"
      ]
     },
     "execution_count": 244,
     "metadata": {},
     "output_type": "execute_result"
    }
   ],
   "source": [
    "teams[np.argmin(res.x[:20])]"
   ]
  },
  {
   "cell_type": "code",
   "execution_count": null,
   "metadata": {
    "collapsed": false
   },
   "outputs": [],
   "source": []
  },
  {
   "cell_type": "code",
   "execution_count": 325,
   "metadata": {
    "collapsed": false
   },
   "outputs": [
    {
     "data": {
      "text/plain": [
       "0.85908585616915811"
      ]
     },
     "execution_count": 325,
     "metadata": {},
     "output_type": "execute_result"
    }
   ],
   "source": [
    "a=res.x[:20]\n",
    "b=res.x[20:40]\n",
    "gamma=res.x[40]\n",
    "distribution(0,0,[a[0],a[1]],[b[0],b[1]],gamma,0)"
   ]
  },
  {
   "cell_type": "code",
   "execution_count": null,
   "metadata": {
    "collapsed": false
   },
   "outputs": [],
   "source": []
  },
  {
   "cell_type": "code",
   "execution_count": null,
   "metadata": {
    "collapsed": false
   },
   "outputs": [],
   "source": []
  },
  {
   "cell_type": "code",
   "execution_count": 334,
   "metadata": {
    "collapsed": false
   },
   "outputs": [],
   "source": [
    "def probas(home,away):\n",
    "    a=res.x[:20]*10\n",
    "    b=res.x[20:40]*10\n",
    "    gamma=res.x[40]\n",
    "    rau=res.x[41]\n",
    "    home_index=np.where(teams==home)[0][0]\n",
    "    away_index=np.where(teams==away)[0][0]\n",
    "    draw_pr=np.sum([distribution(i,i,[a[home_index],a[away_index]],[b[home_index],b[away_index]],gamma,rau) for i in range(0,10)])\n",
    "    home_pr=0\n",
    "    for i in range(0,10):\n",
    "        j=0\n",
    "        while j<i:\n",
    "            home_pr+=distribution(i,j,[a[home_index],a[away_index]],[b[home_index],b[away_index]],gamma,rau)\n",
    "            j+=1\n",
    "    away_pr=0\n",
    "    for j in range(0,10):\n",
    "        i=0\n",
    "        while i<j:\n",
    "            away_pr+=distribution(i,j,[a[home_index],a[away_index]],[b[home_index],b[away_index]],gamma,rau)\n",
    "            i+=1     \n",
    "    return(home_pr,draw_pr,away_pr)\n"
   ]
  },
  {
   "cell_type": "code",
   "execution_count": null,
   "metadata": {
    "collapsed": false
   },
   "outputs": [],
   "source": []
  },
  {
   "cell_type": "code",
   "execution_count": null,
   "metadata": {
    "collapsed": false
   },
   "outputs": [],
   "source": []
  },
  {
   "cell_type": "code",
   "execution_count": null,
   "metadata": {
    "collapsed": false
   },
   "outputs": [],
   "source": []
  },
  {
   "cell_type": "code",
   "execution_count": 18,
   "metadata": {
    "collapsed": false,
    "scrolled": true
   },
   "outputs": [
    {
     "data": {
      "text/plain": [
       "0.45238095238095238"
      ]
     },
     "execution_count": 18,
     "metadata": {},
     "output_type": "execute_result"
    }
   ],
   "source": []
  },
  {
   "cell_type": "code",
   "execution_count": null,
   "metadata": {
    "collapsed": false
   },
   "outputs": [],
   "source": []
  },
  {
   "cell_type": "code",
   "execution_count": null,
   "metadata": {
    "collapsed": true
   },
   "outputs": [],
   "source": []
  }
 ],
 "metadata": {
  "anaconda-cloud": {},
  "kernelspec": {
   "display_name": "Python [conda env:py34]",
   "language": "python",
   "name": "conda-env-py34-py"
  },
  "language_info": {
   "codemirror_mode": {
    "name": "ipython",
    "version": 3
   },
   "file_extension": ".py",
   "mimetype": "text/x-python",
   "name": "python",
   "nbconvert_exporter": "python",
   "pygments_lexer": "ipython3",
   "version": "3.4.5"
  }
 },
 "nbformat": 4,
 "nbformat_minor": 1
}
